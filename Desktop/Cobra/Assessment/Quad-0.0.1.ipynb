{
 "cells": [
  {
   "cell_type": "code",
   "execution_count": 41,
   "metadata": {},
   "outputs": [],
   "source": [
    "#currently works only for basic quadratic equation"
   ]
  },
  {
   "cell_type": "code",
   "execution_count": 109,
   "metadata": {},
   "outputs": [],
   "source": [
    "import math\n",
    "import re"
   ]
  },
  {
   "cell_type": "code",
   "execution_count": 43,
   "metadata": {},
   "outputs": [
    {
     "name": "stdin",
     "output_type": "stream",
     "text": [
      " 22x2-90x=890\n"
     ]
    }
   ],
   "source": [
    "x=input()"
   ]
  },
  {
   "cell_type": "code",
   "execution_count": 110,
   "metadata": {},
   "outputs": [],
   "source": [
    "eq=x.split('=')"
   ]
  },
  {
   "cell_type": "code",
   "execution_count": 111,
   "metadata": {},
   "outputs": [
    {
     "data": {
      "text/plain": [
       "['22x2-89x', '90']"
      ]
     },
     "execution_count": 111,
     "metadata": {},
     "output_type": "execute_result"
    }
   ],
   "source": [
    "eq"
   ]
  },
  {
   "cell_type": "code",
   "execution_count": 112,
   "metadata": {},
   "outputs": [],
   "source": [
    "vart=eq[1]"
   ]
  },
  {
   "cell_type": "code",
   "execution_count": 116,
   "metadata": {},
   "outputs": [
    {
     "ename": "TypeError",
     "evalue": "Cannot extend enumerations",
     "output_type": "error",
     "traceback": [
      "\u001b[1;31m---------------------------------------------------------------------------\u001b[0m",
      "\u001b[1;31mTypeError\u001b[0m                                 Traceback (most recent call last)",
      "\u001b[1;32m<ipython-input-116-12cc2dae1de4>\u001b[0m in \u001b[0;36m<module>\u001b[1;34m\u001b[0m\n\u001b[0;32m      2\u001b[0m         \u001b[0mcalcRootsPos\u001b[0m\u001b[1;33m(\u001b[0m\u001b[0mx\u001b[0m\u001b[1;33m)\u001b[0m\u001b[1;33m\u001b[0m\u001b[1;33m\u001b[0m\u001b[0m\n\u001b[0;32m      3\u001b[0m \u001b[1;32melse\u001b[0m\u001b[1;33m:\u001b[0m\u001b[1;33m\u001b[0m\u001b[1;33m\u001b[0m\u001b[0m\n\u001b[1;32m----> 4\u001b[1;33m     \u001b[1;32mif\u001b[0m \u001b[0mre\u001b[0m\u001b[1;33m.\u001b[0m\u001b[0mRegexFlag\u001b[0m\u001b[1;33m(\u001b[0m\u001b[1;34m'*+*'\u001b[0m\u001b[1;33m,\u001b[0m\u001b[0meq\u001b[0m\u001b[1;33m[\u001b[0m\u001b[1;36m0\u001b[0m\u001b[1;33m]\u001b[0m\u001b[1;33m)\u001b[0m\u001b[1;33m:\u001b[0m\u001b[1;33m\u001b[0m\u001b[1;33m\u001b[0m\u001b[0m\n\u001b[0m\u001b[0;32m      5\u001b[0m         \u001b[0mchngEqPos\u001b[0m\u001b[1;33m(\u001b[0m\u001b[0mx\u001b[0m\u001b[1;33m,\u001b[0m\u001b[0mint\u001b[0m\u001b[1;33m(\u001b[0m\u001b[0mvart\u001b[0m\u001b[1;33m)\u001b[0m\u001b[1;33m)\u001b[0m\u001b[1;33m\u001b[0m\u001b[1;33m\u001b[0m\u001b[0m\n\u001b[0;32m      6\u001b[0m     \u001b[1;32melif\u001b[0m \u001b[0mre\u001b[0m\u001b[1;33m.\u001b[0m\u001b[0mmatch\u001b[0m\u001b[1;33m(\u001b[0m\u001b[1;34m'*-*'\u001b[0m\u001b[1;33m,\u001b[0m\u001b[0meq\u001b[0m\u001b[1;33m[\u001b[0m\u001b[1;36m0\u001b[0m\u001b[1;33m]\u001b[0m\u001b[1;33m)\u001b[0m\u001b[1;33m:\u001b[0m\u001b[1;33m\u001b[0m\u001b[1;33m\u001b[0m\u001b[0m\n",
      "\u001b[1;32m~\\Anaconda3\\lib\\enum.py\u001b[0m in \u001b[0;36m__call__\u001b[1;34m(cls, value, names, module, qualname, type, start)\u001b[0m\n\u001b[0;32m    310\u001b[0m             \u001b[1;32mreturn\u001b[0m \u001b[0mcls\u001b[0m\u001b[1;33m.\u001b[0m\u001b[0m__new__\u001b[0m\u001b[1;33m(\u001b[0m\u001b[0mcls\u001b[0m\u001b[1;33m,\u001b[0m \u001b[0mvalue\u001b[0m\u001b[1;33m)\u001b[0m\u001b[1;33m\u001b[0m\u001b[1;33m\u001b[0m\u001b[0m\n\u001b[0;32m    311\u001b[0m         \u001b[1;31m# otherwise, functional API: we're creating a new Enum type\u001b[0m\u001b[1;33m\u001b[0m\u001b[1;33m\u001b[0m\u001b[1;33m\u001b[0m\u001b[0m\n\u001b[1;32m--> 312\u001b[1;33m         \u001b[1;32mreturn\u001b[0m \u001b[0mcls\u001b[0m\u001b[1;33m.\u001b[0m\u001b[0m_create_\u001b[0m\u001b[1;33m(\u001b[0m\u001b[0mvalue\u001b[0m\u001b[1;33m,\u001b[0m \u001b[0mnames\u001b[0m\u001b[1;33m,\u001b[0m \u001b[0mmodule\u001b[0m\u001b[1;33m=\u001b[0m\u001b[0mmodule\u001b[0m\u001b[1;33m,\u001b[0m \u001b[0mqualname\u001b[0m\u001b[1;33m=\u001b[0m\u001b[0mqualname\u001b[0m\u001b[1;33m,\u001b[0m \u001b[0mtype\u001b[0m\u001b[1;33m=\u001b[0m\u001b[0mtype\u001b[0m\u001b[1;33m,\u001b[0m \u001b[0mstart\u001b[0m\u001b[1;33m=\u001b[0m\u001b[0mstart\u001b[0m\u001b[1;33m)\u001b[0m\u001b[1;33m\u001b[0m\u001b[1;33m\u001b[0m\u001b[0m\n\u001b[0m\u001b[0;32m    313\u001b[0m \u001b[1;33m\u001b[0m\u001b[0m\n\u001b[0;32m    314\u001b[0m     \u001b[1;32mdef\u001b[0m \u001b[0m__contains__\u001b[0m\u001b[1;33m(\u001b[0m\u001b[0mcls\u001b[0m\u001b[1;33m,\u001b[0m \u001b[0mmember\u001b[0m\u001b[1;33m)\u001b[0m\u001b[1;33m:\u001b[0m\u001b[1;33m\u001b[0m\u001b[1;33m\u001b[0m\u001b[0m\n",
      "\u001b[1;32m~\\Anaconda3\\lib\\enum.py\u001b[0m in \u001b[0;36m_create_\u001b[1;34m(cls, class_name, names, module, qualname, type, start)\u001b[0m\n\u001b[0;32m    401\u001b[0m         \u001b[0mmetacls\u001b[0m \u001b[1;33m=\u001b[0m \u001b[0mcls\u001b[0m\u001b[1;33m.\u001b[0m\u001b[0m__class__\u001b[0m\u001b[1;33m\u001b[0m\u001b[1;33m\u001b[0m\u001b[0m\n\u001b[0;32m    402\u001b[0m         \u001b[0mbases\u001b[0m \u001b[1;33m=\u001b[0m \u001b[1;33m(\u001b[0m\u001b[0mcls\u001b[0m\u001b[1;33m,\u001b[0m \u001b[1;33m)\u001b[0m \u001b[1;32mif\u001b[0m \u001b[0mtype\u001b[0m \u001b[1;32mis\u001b[0m \u001b[1;32mNone\u001b[0m \u001b[1;32melse\u001b[0m \u001b[1;33m(\u001b[0m\u001b[0mtype\u001b[0m\u001b[1;33m,\u001b[0m \u001b[0mcls\u001b[0m\u001b[1;33m)\u001b[0m\u001b[1;33m\u001b[0m\u001b[1;33m\u001b[0m\u001b[0m\n\u001b[1;32m--> 403\u001b[1;33m         \u001b[0m_\u001b[0m\u001b[1;33m,\u001b[0m \u001b[0mfirst_enum\u001b[0m \u001b[1;33m=\u001b[0m \u001b[0mcls\u001b[0m\u001b[1;33m.\u001b[0m\u001b[0m_get_mixins_\u001b[0m\u001b[1;33m(\u001b[0m\u001b[0mbases\u001b[0m\u001b[1;33m)\u001b[0m\u001b[1;33m\u001b[0m\u001b[1;33m\u001b[0m\u001b[0m\n\u001b[0m\u001b[0;32m    404\u001b[0m         \u001b[0mclassdict\u001b[0m \u001b[1;33m=\u001b[0m \u001b[0mmetacls\u001b[0m\u001b[1;33m.\u001b[0m\u001b[0m__prepare__\u001b[0m\u001b[1;33m(\u001b[0m\u001b[0mclass_name\u001b[0m\u001b[1;33m,\u001b[0m \u001b[0mbases\u001b[0m\u001b[1;33m)\u001b[0m\u001b[1;33m\u001b[0m\u001b[1;33m\u001b[0m\u001b[0m\n\u001b[0;32m    405\u001b[0m \u001b[1;33m\u001b[0m\u001b[0m\n",
      "\u001b[1;32m~\\Anaconda3\\lib\\enum.py\u001b[0m in \u001b[0;36m_get_mixins_\u001b[1;34m(bases)\u001b[0m\n\u001b[0;32m    469\u001b[0m         \u001b[0mmember_type\u001b[0m \u001b[1;33m=\u001b[0m \u001b[0m_find_data_type\u001b[0m\u001b[1;33m(\u001b[0m\u001b[0mbases\u001b[0m\u001b[1;33m)\u001b[0m \u001b[1;32mor\u001b[0m \u001b[0mobject\u001b[0m\u001b[1;33m\u001b[0m\u001b[1;33m\u001b[0m\u001b[0m\n\u001b[0;32m    470\u001b[0m         \u001b[1;32mif\u001b[0m \u001b[0mfirst_enum\u001b[0m\u001b[1;33m.\u001b[0m\u001b[0m_member_names_\u001b[0m\u001b[1;33m:\u001b[0m\u001b[1;33m\u001b[0m\u001b[1;33m\u001b[0m\u001b[0m\n\u001b[1;32m--> 471\u001b[1;33m             \u001b[1;32mraise\u001b[0m \u001b[0mTypeError\u001b[0m\u001b[1;33m(\u001b[0m\u001b[1;34m\"Cannot extend enumerations\"\u001b[0m\u001b[1;33m)\u001b[0m\u001b[1;33m\u001b[0m\u001b[1;33m\u001b[0m\u001b[0m\n\u001b[0m\u001b[0;32m    472\u001b[0m         \u001b[1;32mreturn\u001b[0m \u001b[0mmember_type\u001b[0m\u001b[1;33m,\u001b[0m \u001b[0mfirst_enum\u001b[0m\u001b[1;33m\u001b[0m\u001b[1;33m\u001b[0m\u001b[0m\n\u001b[0;32m    473\u001b[0m \u001b[1;33m\u001b[0m\u001b[0m\n",
      "\u001b[1;31mTypeError\u001b[0m: Cannot extend enumerations"
     ]
    }
   ],
   "source": [
    "if (vart=='0'):\n",
    "        calcRootsPos(x)\n",
    "else:\n",
    "    if re.match('*+*',eq[0]):\n",
    "        chngEqPos(x,int(vart))\n",
    "    elif re.match('*-*',eq[0]):\n",
    "        chngEqNeg(x,int(vart))\n",
    "    elif re.match('^-+',eq[0]):\n",
    "        pass"
   ]
  },
  {
   "cell_type": "code",
   "execution_count": 106,
   "metadata": {
    "jupyter": {
     "source_hidden": true
    }
   },
   "outputs": [],
   "source": [
    "def chngEqPos(x,rhs):\n",
    "    y=x.split('+')\n",
    "    \n",
    "    vara=y[0]\n",
    "    varb=y[1]\n",
    "    \n",
    "    za=vara.split('x')\n",
    "    zb=varb.split('x')\n",
    "    \n",
    "    a=int(za[0])\n",
    "    b=int(zb[0])\n",
    "    c=rhs\n",
    "    \n",
    "    d= (b**2)-(4*a*c)#Finding the Determinent\n",
    "\n",
    "    #Checking the determinenet and finding the solutions \n",
    "\n",
    "    if d==0:\n",
    "        sol1=(-b)/(2*a)\n",
    "        print(\"Only 1 root=\",sol1)\n",
    "    elif d>0:\n",
    "        sol1=((-b)+math.sqrt(d))/(2*a)\n",
    "        sol2=((-b)-math.sqrt(d))/(2*a)\n",
    "        print(\"Two Real Roots= \",sol1,' , ',sol2)\n",
    "    elif d<0:\n",
    "        real=((-b))/(2*a)\n",
    "        img=math.sqrt(-d)/(2*a)\n",
    "        print(\"Two Imaginary Roots= \",real,'+',img,'i',' , ',real,'-',img,'i')\n",
    "\n",
    "    "
   ]
  },
  {
   "cell_type": "code",
   "execution_count": 107,
   "metadata": {
    "jupyter": {
     "source_hidden": true
    }
   },
   "outputs": [],
   "source": [
    "def chngEqNeg(x,rhs):\n",
    "    y=x.split('-')\n",
    "    \n",
    "    vara=y[0]\n",
    "    varb=y[1]\n",
    "    \n",
    "    za=vara.split('x')\n",
    "    zb=varb.split('x')\n",
    "    \n",
    "    a=int(za[0])\n",
    "    b=int(zb[0])*-1\n",
    "    c=rhs\n",
    "    \n",
    "    d= (-b**2)-(4*a*c)#Finding the Determinent\n",
    "\n",
    "    #Checking the determinenet and finding the solutions \n",
    "\n",
    "    if d==0:\n",
    "        sol1=(-b)/(2*a)\n",
    "        print(\"Only 1 root=\",sol1)\n",
    "    elif d>0:\n",
    "        sol1=((-b)+math.sqrt(d))/(2*a)\n",
    "        sol2=((-b)-math.sqrt(d))/(2*a)\n",
    "        print(\"Two Real Roots= \",sol1,' , ',sol2)\n",
    "    elif d<0:\n",
    "        real=((-b))/(2*a)\n",
    "        img=math.sqrt(-d)/(2*a)\n",
    "        print(\"Two Imaginary Roots= \",real,'+',img,'i',' , ',real,'-',img,'i')\n"
   ]
  },
  {
   "cell_type": "code",
   "execution_count": 108,
   "metadata": {
    "jupyter": {
     "source_hidden": true
    }
   },
   "outputs": [],
   "source": [
    "\n",
    "def calcRootsPos(x):    \n",
    "    y=x.split('+') #splitting on plus to get 3 strings\n",
    "\n",
    "    vara=y[0]  # storing the 3 strings into 3 separate variables\n",
    "    varb=y[1]\n",
    "    varc=y[2]\n",
    "\n",
    "    # Splitting and storing the strings on x/= so as to get the co-efficients \n",
    "    za=vara.split('x') \n",
    "    zb=varb.split('x')\n",
    "    zc=varc.split('=')\n",
    "\n",
    "\n",
    "    a=int(za[0])#The first parts of the substring lists contain the co -efs so we convert and store the coefs into variables\n",
    "    b=int(zb[0])\n",
    "    c=int(zc[0])\n",
    "\n",
    "    d= (b**2)-(4*a*c)#Finding the Determinent\n",
    "\n",
    "    #Checking the determinenet and finding the solutions \n",
    "\n",
    "    if d==0:\n",
    "        sol1=(-b)/(2*a)\n",
    "        print(\"Only 1 root=\",sol1)\n",
    "    elif d>0:\n",
    "        sol1=((-b)+math.sqrt(d))/(2*a)\n",
    "        sol2=((-b)-math.sqrt(d))/(2*a)\n",
    "        print(\"Two Real Roots= \",sol1,' , ',sol2)\n",
    "    elif d<0:\n",
    "        real=((-b))/(2*a)\n",
    "        img=math.sqrt(-d)/(2*a)\n",
    "        print(\"Two Imaginary Roots= \",real,'+',img,'i',' , ',real,'-',img,'i')\n",
    "\n",
    "\n",
    "\n"
   ]
  },
  {
   "cell_type": "code",
   "execution_count": null,
   "metadata": {},
   "outputs": [],
   "source": []
  },
  {
   "cell_type": "code",
   "execution_count": null,
   "metadata": {},
   "outputs": [],
   "source": []
  }
 ],
 "metadata": {
  "kernelspec": {
   "display_name": "Python 3",
   "language": "python",
   "name": "python3"
  },
  "language_info": {
   "codemirror_mode": {
    "name": "ipython",
    "version": 3
   },
   "file_extension": ".py",
   "mimetype": "text/x-python",
   "name": "python",
   "nbconvert_exporter": "python",
   "pygments_lexer": "ipython3",
   "version": "3.7.4"
  }
 },
 "nbformat": 4,
 "nbformat_minor": 4
}
