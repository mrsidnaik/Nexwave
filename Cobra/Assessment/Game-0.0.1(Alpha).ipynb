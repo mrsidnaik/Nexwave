{
 "cells": [
  {
   "cell_type": "code",
   "execution_count": 1,
   "metadata": {},
   "outputs": [],
   "source": [
    "dicta={'Ind':0,'Aus':0,'Zim':0,'Ire':0}\n",
    "dictb={'Sri':0,'Eng':0,'New':0,'Afg':0}\n",
    "dictc={'Ban':0,'Pak':0,'Usa':0,'Bra':0}\n",
    "dictd={'Chi':0,'Can':0,'Win':0,'Sco':0}"
   ]
  },
  {
   "cell_type": "code",
   "execution_count": 2,
   "metadata": {},
   "outputs": [
    {
     "name": "stdout",
     "output_type": "stream",
     "text": [
      "Ind Aus\n",
      "Who won betweenInd\n",
      "Ind Zim\n",
      "Who won betweenInd\n",
      "Ind Ire\n",
      "Who won betweenIre\n",
      "Aus Ind\n",
      "Who won betweenAus\n",
      "Aus Zim\n",
      "Who won betweenZim\n",
      "Aus Ire\n",
      "Who won betweenIre\n",
      "Zim Ind\n",
      "Who won betweenInd\n",
      "Zim Aus\n",
      "Who won betweenZim\n",
      "Zim Ire\n",
      "Who won betweenZim\n",
      "Ire Ind\n",
      "Who won betweenInd\n",
      "Ire Aus\n",
      "Who won betweenAus\n",
      "Ire Zim\n",
      "Who won betweenZim\n"
     ]
    }
   ],
   "source": [
    "for k in dicta.keys():\n",
    "    for j in dicta.keys():\n",
    "        if k != j:\n",
    "            print(k,j)\n",
    "            x=input(\"Who won between\")\n",
    "            if(x==k):\n",
    "                dicta[k]=dicta[k]+1\n",
    "            elif(x==j):\n",
    "                dicta[j]=dicta[j]+1\n"
   ]
  },
  {
   "cell_type": "code",
   "execution_count": 3,
   "metadata": {},
   "outputs": [
    {
     "data": {
      "text/plain": [
       "{'Ind': 4, 'Aus': 2, 'Zim': 4, 'Ire': 2}"
      ]
     },
     "execution_count": 3,
     "metadata": {},
     "output_type": "execute_result"
    }
   ],
   "source": [
    "dicta"
   ]
  },
  {
   "cell_type": "code",
   "execution_count": null,
   "metadata": {},
   "outputs": [],
   "source": []
  }
 ],
 "metadata": {
  "kernelspec": {
   "display_name": "Python 3",
   "language": "python",
   "name": "python3"
  },
  "language_info": {
   "codemirror_mode": {
    "name": "ipython",
    "version": 3
   },
   "file_extension": ".py",
   "mimetype": "text/x-python",
   "name": "python",
   "nbconvert_exporter": "python",
   "pygments_lexer": "ipython3",
   "version": "3.7.4"
  }
 },
 "nbformat": 4,
 "nbformat_minor": 2
}
