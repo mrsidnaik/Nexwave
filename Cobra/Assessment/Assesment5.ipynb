{
 "cells": [
  {
   "cell_type": "code",
   "execution_count": 11,
   "metadata": {},
   "outputs": [],
   "source": [
    "import pandas as pd"
   ]
  },
  {
   "cell_type": "code",
   "execution_count": 12,
   "metadata": {},
   "outputs": [],
   "source": [
    "df = pd.read_csv('results.csv')"
   ]
  },
  {
   "cell_type": "code",
   "execution_count": 13,
   "metadata": {},
   "outputs": [],
   "source": [
    "df['year'] = pd.DatetimeIndex(df['date']).year"
   ]
  },
  {
   "cell_type": "code",
   "execution_count": 14,
   "metadata": {},
   "outputs": [],
   "source": [
    "fifa = df[df['tournament']=='FIFA World Cup']"
   ]
  },
  {
   "cell_type": "code",
   "execution_count": 15,
   "metadata": {},
   "outputs": [],
   "source": [
    "dates = fifa.date.tolist()"
   ]
  },
  {
   "cell_type": "code",
   "execution_count": 19,
   "metadata": {},
   "outputs": [],
   "source": [
    "yrs=[]\n",
    "for date in dates:\n",
    "    yr=date.split('-')[0]\n",
    "    if yr not in yrs:\n",
    "        yrs.append(yr)\n",
    "dictOfCountries={}"
   ]
  },
  {
   "cell_type": "code",
   "execution_count": 20,
   "metadata": {},
   "outputs": [],
   "source": [
    "for i in range(len(yrs)):\n",
    "    for j in range(len(fifa[fifa['year']==eval(yrs[i])].country.unique())):\n",
    "        if yrs[i] in dictOfCountries.keys():\n",
    "            dictOfCountries[yrs[i]].append(fifa[fifa['year']==eval(yrs[i])].country.unique()[j])\n",
    "        else:\n",
    "            dictOfCountries[yrs[i]]=[fifa[fifa['year']==eval(yrs[i])].country.unique()[j]]"
   ]
  },
  {
   "cell_type": "code",
   "execution_count": 21,
   "metadata": {},
   "outputs": [
    {
     "data": {
      "text/plain": [
       "{'1930': ['Uruguay'],\n",
       " '1934': ['Italy'],\n",
       " '1938': ['France'],\n",
       " '1950': ['Brazil'],\n",
       " '1954': ['Switzerland'],\n",
       " '1958': ['Sweden'],\n",
       " '1962': ['Chile'],\n",
       " '1966': ['England'],\n",
       " '1970': ['Mexico'],\n",
       " '1974': ['Germany'],\n",
       " '1978': ['Argentina'],\n",
       " '1982': ['Spain'],\n",
       " '1986': ['Mexico'],\n",
       " '1990': ['Italy'],\n",
       " '1994': ['United States'],\n",
       " '1998': ['France'],\n",
       " '2002': ['South Korea', 'Japan'],\n",
       " '2006': ['Germany'],\n",
       " '2010': ['South Africa'],\n",
       " '2014': ['Brazil'],\n",
       " '2018': ['Russia']}"
      ]
     },
     "execution_count": 21,
     "metadata": {},
     "output_type": "execute_result"
    }
   ],
   "source": [
    "dictOfCountries"
   ]
  },
  {
   "cell_type": "code",
   "execution_count": null,
   "metadata": {},
   "outputs": [],
   "source": []
  }
 ],
 "metadata": {
  "kernelspec": {
   "display_name": "Python 3",
   "language": "python",
   "name": "python3"
  },
  "language_info": {
   "codemirror_mode": {
    "name": "ipython",
    "version": 3
   },
   "file_extension": ".py",
   "mimetype": "text/x-python",
   "name": "python",
   "nbconvert_exporter": "python",
   "pygments_lexer": "ipython3",
   "version": "3.7.4"
  }
 },
 "nbformat": 4,
 "nbformat_minor": 2
}
