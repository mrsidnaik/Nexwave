{
 "cells": [
  {
   "cell_type": "code",
   "execution_count": 1,
   "metadata": {},
   "outputs": [],
   "source": [
    "#currently works only for positive coeff and where d>0 or d=no, no complex"
   ]
  },
  {
   "cell_type": "code",
   "execution_count": 2,
   "metadata": {},
   "outputs": [],
   "source": [
    "import math"
   ]
  },
  {
   "cell_type": "code",
   "execution_count": 4,
   "metadata": {},
   "outputs": [
    {
     "name": "stdout",
     "output_type": "stream",
     "text": [
      "2x2+4x+2=0\n"
     ]
    }
   ],
   "source": [
    "x=input()"
   ]
  },
  {
   "cell_type": "code",
   "execution_count": 5,
   "metadata": {},
   "outputs": [],
   "source": [
    "y=x.split('+') #splitting on plus to get 3 strings"
   ]
  },
  {
   "cell_type": "code",
   "execution_count": 6,
   "metadata": {},
   "outputs": [],
   "source": [
    "vara=y[0]  # storing the 3 strings into 3 separate variables\n",
    "varb=y[1]\n",
    "varc=y[2]"
   ]
  },
  {
   "cell_type": "code",
   "execution_count": 7,
   "metadata": {},
   "outputs": [],
   "source": [
    "za=vara.split('x') # Splitting and storing the strings on x/= so as to get the co-efficients \n",
    "zb=varb.split('x')\n",
    "zc=varc.split('=')"
   ]
  },
  {
   "cell_type": "code",
   "execution_count": 8,
   "metadata": {},
   "outputs": [],
   "source": [
    "\n",
    "a=int(za[0])#The first parts of the substring lists contain the co -efs so we convert and store the coefs into variables\n",
    "b=int(zb[0])\n",
    "c=int(zc[0])"
   ]
  },
  {
   "cell_type": "code",
   "execution_count": 9,
   "metadata": {},
   "outputs": [],
   "source": [
    "d= (b**2)-(4*a*c)#Finding the Determinent"
   ]
  },
  {
   "cell_type": "code",
   "execution_count": 11,
   "metadata": {},
   "outputs": [
    {
     "name": "stdout",
     "output_type": "stream",
     "text": [
      "Only 1 root= -1.0\n"
     ]
    }
   ],
   "source": [
    "#Checking the determinenet and finding the solutions \n",
    "\n",
    "if d==0:\n",
    "    sol1=(-b)/(2*a)\n",
    "    print(\"Only 1 root=\",sol1)\n",
    "elif d>0:\n",
    "    sol1=((-b)+math.sqrt(d))/(2*a)\n",
    "    sol2=((-b)-math.sqrt(d))/(2*a)\n",
    "    print(\"Two Real Roots= \",sol1,' ',sol2)\n",
    "elif d<0:\n",
    "    sol1=((-b)+math.sqrt(d))/(2*a)\n",
    "    sol2=((-b)-math.sqrt(d))/(2*a)\n",
    "    print(\"Two Real Roots= \",sol1,' ',sol2)\n",
    "\n"
   ]
  },
  {
   "cell_type": "code",
   "execution_count": null,
   "metadata": {},
   "outputs": [],
   "source": []
  }
 ],
 "metadata": {
  "kernelspec": {
   "display_name": "Python 3",
   "language": "python",
   "name": "python3"
  },
  "language_info": {
   "codemirror_mode": {
    "name": "ipython",
    "version": 3
   },
   "file_extension": ".py",
   "mimetype": "text/x-python",
   "name": "python",
   "nbconvert_exporter": "python",
   "pygments_lexer": "ipython3",
   "version": "3.7.4"
  }
 },
 "nbformat": 4,
 "nbformat_minor": 2
}
