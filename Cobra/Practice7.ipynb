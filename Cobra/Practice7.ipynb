{
 "cells": [
  {
   "cell_type": "code",
   "execution_count": 1,
   "metadata": {},
   "outputs": [],
   "source": [
    "vara = 10\n",
    "vara = 20\n",
    "varc = 0\n"
   ]
  },
  {
   "cell_type": "code",
   "execution_count": 2,
   "metadata": {},
   "outputs": [
    {
     "ename": "ZeroDivisionError",
     "evalue": "division by zero",
     "output_type": "error",
     "traceback": [
      "\u001b[1;31m---------------------------------------------------------------------------\u001b[0m",
      "\u001b[1;31mZeroDivisionError\u001b[0m                         Traceback (most recent call last)",
      "\u001b[1;32m<ipython-input-2-714f97a75efc>\u001b[0m in \u001b[0;36m<module>\u001b[1;34m\u001b[0m\n\u001b[1;32m----> 1\u001b[1;33m \u001b[0mvarb\u001b[0m \u001b[1;33m=\u001b[0m \u001b[0mvara\u001b[0m\u001b[1;33m/\u001b[0m\u001b[0mvarc\u001b[0m\u001b[1;33m\u001b[0m\u001b[1;33m\u001b[0m\u001b[0m\n\u001b[0m",
      "\u001b[1;31mZeroDivisionError\u001b[0m: division by zero"
     ]
    }
   ],
   "source": [
    "varb = vara/varc"
   ]
  },
  {
   "cell_type": "code",
   "execution_count": 3,
   "metadata": {},
   "outputs": [],
   "source": [
    "lista = []\n",
    "avg = 0\n"
   ]
  },
  {
   "cell_type": "code",
   "execution_count": 4,
   "metadata": {},
   "outputs": [
    {
     "name": "stdout",
     "output_type": "stream",
     "text": [
      "divide by zero not possible\n"
     ]
    }
   ],
   "source": [
    "try:\n",
    "    varb = vara/varc\n",
    "    print(vara)\n",
    "except ZeroDivisionError:\n",
    "    print(\"divide by zero not possible\")"
   ]
  },
  {
   "cell_type": "code",
   "execution_count": 5,
   "metadata": {},
   "outputs": [
    {
     "name": "stdout",
     "output_type": "stream",
     "text": [
      "list is empty\n"
     ]
    }
   ],
   "source": [
    "try:\n",
    "    avg = sum(lista)/len(lista)\n",
    "    print(\"avg is \", avg)\n",
    "except ZeroDivisionError:\n",
    "    print(\"list is empty\")"
   ]
  },
  {
   "cell_type": "code",
   "execution_count": 6,
   "metadata": {},
   "outputs": [],
   "source": [
    "lista.append(20)\n"
   ]
  },
  {
   "cell_type": "code",
   "execution_count": 7,
   "metadata": {},
   "outputs": [
    {
     "name": "stdout",
     "output_type": "stream",
     "text": [
      "avg is  20.0\n"
     ]
    }
   ],
   "source": [
    "try:\n",
    "    avg = sum(lista)/len(lista)\n",
    "    print(\"avg is \", avg)\n",
    "except ZeroDivisionError:\n",
    "    print(\"list is empty\")\n"
   ]
  },
  {
   "cell_type": "code",
   "execution_count": 8,
   "metadata": {},
   "outputs": [
    {
     "ename": "NameError",
     "evalue": "name 'listb' is not defined",
     "output_type": "error",
     "traceback": [
      "\u001b[1;31m---------------------------------------------------------------------------\u001b[0m",
      "\u001b[1;31mNameError\u001b[0m                                 Traceback (most recent call last)",
      "\u001b[1;32m<ipython-input-8-64541090c37a>\u001b[0m in \u001b[0;36m<module>\u001b[1;34m\u001b[0m\n\u001b[0;32m      2\u001b[0m \u001b[1;33m\u001b[0m\u001b[0m\n\u001b[0;32m      3\u001b[0m \u001b[1;32mtry\u001b[0m\u001b[1;33m:\u001b[0m\u001b[1;33m\u001b[0m\u001b[1;33m\u001b[0m\u001b[0m\n\u001b[1;32m----> 4\u001b[1;33m     \u001b[0mavg\u001b[0m \u001b[1;33m=\u001b[0m \u001b[0msum\u001b[0m\u001b[1;33m(\u001b[0m\u001b[0mlistb\u001b[0m\u001b[1;33m)\u001b[0m\u001b[1;33m/\u001b[0m\u001b[0mlen\u001b[0m\u001b[1;33m(\u001b[0m\u001b[0mlista\u001b[0m\u001b[1;33m)\u001b[0m\u001b[1;33m\u001b[0m\u001b[1;33m\u001b[0m\u001b[0m\n\u001b[0m\u001b[0;32m      5\u001b[0m     \u001b[0mprint\u001b[0m\u001b[1;33m(\u001b[0m\u001b[1;34m\"avg is \"\u001b[0m\u001b[1;33m,\u001b[0m \u001b[0mavg\u001b[0m\u001b[1;33m)\u001b[0m\u001b[1;33m\u001b[0m\u001b[1;33m\u001b[0m\u001b[0m\n\u001b[0;32m      6\u001b[0m \u001b[1;32mexcept\u001b[0m \u001b[0mZeroDivisionError\u001b[0m\u001b[1;33m:\u001b[0m\u001b[1;33m\u001b[0m\u001b[1;33m\u001b[0m\u001b[0m\n",
      "\u001b[1;31mNameError\u001b[0m: name 'listb' is not defined"
     ]
    }
   ],
   "source": [
    "lista.clear()\n",
    "\n",
    "try:\n",
    "    avg = sum(listb)/len(lista)\n",
    "    print(\"avg is \", avg)\n",
    "except ZeroDivisionError:\n",
    "    print(\"list is empty\")"
   ]
  },
  {
   "cell_type": "code",
   "execution_count": 9,
   "metadata": {},
   "outputs": [
    {
     "name": "stdout",
     "output_type": "stream",
     "text": [
      "check your name please\n"
     ]
    }
   ],
   "source": [
    "try:\n",
    "    avg = sum(listb)/len(lista)\n",
    "    print(\"avg is \", avg)\n",
    "except ZeroDivisionError:\n",
    "    print(\"list is empty\")\n",
    "except NameError:\n",
    "    print(\"check your name please\")"
   ]
  },
  {
   "cell_type": "code",
   "execution_count": 10,
   "metadata": {},
   "outputs": [
    {
     "name": "stdout",
     "output_type": "stream",
     "text": [
      "check your name please\n",
      "hi\n"
     ]
    }
   ],
   "source": [
    "try:\n",
    "    avg = sum(listb)/len(lista)\n",
    "    print(\"avg is \", avg)\n",
    "except ZeroDivisionError:\n",
    "    print(\"list is empty\")\n",
    "except NameError:\n",
    "    print(\"check your name please\")\n",
    "print('hi')"
   ]
  },
  {
   "cell_type": "code",
   "execution_count": 11,
   "metadata": {},
   "outputs": [],
   "source": [
    "a = 12/6/2\n"
   ]
  },
  {
   "cell_type": "code",
   "execution_count": 13,
   "metadata": {},
   "outputs": [
    {
     "data": {
      "text/plain": [
       "1.0"
      ]
     },
     "execution_count": 13,
     "metadata": {},
     "output_type": "execute_result"
    }
   ],
   "source": [
    "a\n"
   ]
  },
  {
   "cell_type": "code",
   "execution_count": 14,
   "metadata": {},
   "outputs": [],
   "source": [
    "listb = [6, 8, 10]\n",
    "lista = listb\n"
   ]
  },
  {
   "cell_type": "code",
   "execution_count": 15,
   "metadata": {},
   "outputs": [
    {
     "name": "stdout",
     "output_type": "stream",
     "text": [
      "avg is  8.0\n",
      "hi\n"
     ]
    }
   ],
   "source": [
    "try:\n",
    "    avg = sum(listb)/len(lista)\n",
    "    print(\"avg is \", avg)\n",
    "except ZeroDivisionError:\n",
    "    print(\"list is empty\")\n",
    "except NameError:\n",
    "    print(\"check your name please\")\n",
    "print('hi')"
   ]
  },
  {
   "cell_type": "code",
   "execution_count": 16,
   "metadata": {},
   "outputs": [
    {
     "name": "stdout",
     "output_type": "stream",
     "text": [
      "enter index: 1\n",
      "avg is  8.0\n",
      "val = 8\n",
      "hi\n"
     ]
    }
   ],
   "source": [
    "try:\n",
    "    i = eval(input(\"enter index: \"))\n",
    "    avg = sum(listb)/len(lista)\n",
    "    print(\"avg is \", avg)\n",
    "    val = lista[i]\n",
    "    print(\"val =\", val)\n",
    "except ZeroDivisionError:\n",
    "    print(\"list is empty\")\n",
    "except NameError:\n",
    "    print(\"check your name please\")\n",
    "print('hi')"
   ]
  },
  {
   "cell_type": "code",
   "execution_count": 17,
   "metadata": {},
   "outputs": [
    {
     "name": "stdout",
     "output_type": "stream",
     "text": [
      "enter index: 2\n",
      "avg is  8.0\n",
      "something went wrong, don't know what\n",
      "hi\n"
     ]
    }
   ],
   "source": [
    "try:\n",
    "    i = input(\"enter index: \")\n",
    "    avg = sum(listb)/len(lista)\n",
    "    print(\"avg is \", avg)\n",
    "    val = lista[i]\n",
    "    print(\"val =\", val)\n",
    "except ZeroDivisionError:\n",
    "    print(\"list is empty\")\n",
    "except NameError:\n",
    "    print(\"check your name please\")\n",
    "except:\n",
    "    print(\"something went wrong, don't know what\")\n",
    "print(\"hi\")\n"
   ]
  },
  {
   "cell_type": "code",
   "execution_count": 18,
   "metadata": {},
   "outputs": [
    {
     "ename": "SyntaxError",
     "evalue": "default 'except:' must be last (<ipython-input-18-36cf48c08347>, line 9)",
     "output_type": "error",
     "traceback": [
      "\u001b[1;36m  File \u001b[1;32m\"<ipython-input-18-36cf48c08347>\"\u001b[1;36m, line \u001b[1;32m9\u001b[0m\n\u001b[1;33m    except ZeroDivisionError:\u001b[0m\n\u001b[1;37m                             \n^\u001b[0m\n\u001b[1;31mSyntaxError\u001b[0m\u001b[1;31m:\u001b[0m default 'except:' must be last\n"
     ]
    }
   ],
   "source": [
    "try:\n",
    "    i = input(\"enter index: \")\n",
    "    avg = sum(listb)/len(lista)\n",
    "    print(\"avg is \", avg)\n",
    "    val = lista[i]\n",
    "    print(\"val =\", val)\n",
    "except:\n",
    "    print(\"something went wrong, don't know what\")\n",
    "except ZeroDivisionError:\n",
    "    print(\"list is empty\")\n",
    "except NameError:\n",
    "    print(\"check your name please\")\n",
    "print(\"hi\")\n"
   ]
  },
  {
   "cell_type": "code",
   "execution_count": 19,
   "metadata": {},
   "outputs": [
    {
     "ename": "SyntaxError",
     "evalue": "invalid syntax (<ipython-input-19-949c53bfb10e>, line 7)",
     "output_type": "error",
     "traceback": [
      "\u001b[1;36m  File \u001b[1;32m\"<ipython-input-19-949c53bfb10e>\"\u001b[1;36m, line \u001b[1;32m7\u001b[0m\n\u001b[1;33m    print(\"hello\")\u001b[0m\n\u001b[1;37m        ^\u001b[0m\n\u001b[1;31mSyntaxError\u001b[0m\u001b[1;31m:\u001b[0m invalid syntax\n"
     ]
    }
   ],
   "source": [
    "try:\n",
    "    i = input(\"enter index: \")\n",
    "    avg = sum(listb)/len(lista)\n",
    "    print(\"avg is \", avg)\n",
    "    val = lista[i]\n",
    "    print(\"val =\", val)\n",
    "print(\"hello\")\n",
    "except ZeroDivisionError:\n",
    "    print(\"list is empty\")\n",
    "except NameError:\n",
    "    print(\"check your name please\")\n",
    "except:\n",
    "    print(\"something went wrong, don't know what\")\n",
    "print(\"hi\")"
   ]
  },
  {
   "cell_type": "code",
   "execution_count": 20,
   "metadata": {},
   "outputs": [
    {
     "ename": "SyntaxError",
     "evalue": "invalid syntax (<ipython-input-20-949c53bfb10e>, line 7)",
     "output_type": "error",
     "traceback": [
      "\u001b[1;36m  File \u001b[1;32m\"<ipython-input-20-949c53bfb10e>\"\u001b[1;36m, line \u001b[1;32m7\u001b[0m\n\u001b[1;33m    print(\"hello\")\u001b[0m\n\u001b[1;37m        ^\u001b[0m\n\u001b[1;31mSyntaxError\u001b[0m\u001b[1;31m:\u001b[0m invalid syntax\n"
     ]
    }
   ],
   "source": [
    "try:\n",
    "    i = input(\"enter index: \")\n",
    "    avg = sum(listb)/len(lista)\n",
    "    print(\"avg is \", avg)\n",
    "    val = lista[i]\n",
    "    print(\"val =\", val)\n",
    "print(\"hello\")\n",
    "except ZeroDivisionError:\n",
    "    print(\"list is empty\")\n",
    "except NameError:\n",
    "    print(\"check your name please\")\n",
    "except:\n",
    "    print(\"something went wrong, don't know what\")\n",
    "print(\"hi\")"
   ]
  },
  {
   "cell_type": "code",
   "execution_count": 21,
   "metadata": {},
   "outputs": [
    {
     "name": "stdout",
     "output_type": "stream",
     "text": [
      "enter age: 22\n",
      "good to go\n"
     ]
    }
   ],
   "source": [
    "try:\n",
    "    age = eval(input(\"enter age: \"))\n",
    "    if age < 18:\n",
    "        raise ValueError(\"age is too less\")\n",
    "    else :\n",
    "        print(\"good to go\")\n",
    "except ValueError :\n",
    "    print(\"underage\")"
   ]
  },
  {
   "cell_type": "code",
   "execution_count": 22,
   "metadata": {},
   "outputs": [
    {
     "name": "stdout",
     "output_type": "stream",
     "text": [
      "enter age: 17\n"
     ]
    }
   ],
   "source": [
    "try:\n",
    "    age = eval(input(\"enter age: \"))\n",
    "    if age < 18:\n",
    "        raise ValueError(\"age is too less\")\n",
    "    else :\n",
    "        print(\"good to go\")\n",
    "except :\n",
    "    pass"
   ]
  },
  {
   "cell_type": "code",
   "execution_count": 23,
   "metadata": {},
   "outputs": [
    {
     "name": "stdout",
     "output_type": "stream",
     "text": [
      "enter age: 22\n",
      "outer name error\n"
     ]
    }
   ],
   "source": [
    "try:\n",
    "    try:\n",
    "        age = eval(input(\"enter age: \"))\n",
    "        if age < 18:\n",
    "            raise ValueError(\"age is too less\")\n",
    "        else :\n",
    "            print(\"your age =\", aje)\n",
    "    except ValueError:\n",
    "        print(\"inner value error\")\n",
    "except NameError:\n",
    "    print(\"outer name error\")"
   ]
  },
  {
   "cell_type": "code",
   "execution_count": 24,
   "metadata": {},
   "outputs": [],
   "source": [
    "def funca(num):\n",
    "    try:\n",
    "        age = eval(input(\"enter age: \"))\n",
    "        if age < num:\n",
    "            raise ValueError(\"age is too less\")\n",
    "        else :\n",
    "            print(\"your age =\", age)\n",
    "    except ValueError:\n",
    "        print(\"inner value error\")\n",
    "    return"
   ]
  },
  {
   "cell_type": "code",
   "execution_count": null,
   "metadata": {},
   "outputs": [],
   "source": []
  }
 ],
 "metadata": {
  "kernelspec": {
   "display_name": "Python 3",
   "language": "python",
   "name": "python3"
  },
  "language_info": {
   "codemirror_mode": {
    "name": "ipython",
    "version": 3
   },
   "file_extension": ".py",
   "mimetype": "text/x-python",
   "name": "python",
   "nbconvert_exporter": "python",
   "pygments_lexer": "ipython3",
   "version": "3.7.4"
  }
 },
 "nbformat": 4,
 "nbformat_minor": 2
}
