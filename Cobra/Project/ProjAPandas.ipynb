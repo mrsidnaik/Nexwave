{
 "cells": [
  {
   "cell_type": "code",
   "execution_count": 1,
   "metadata": {},
   "outputs": [],
   "source": [
    "import pandas as pd"
   ]
  },
  {
   "cell_type": "code",
   "execution_count": 3,
   "metadata": {},
   "outputs": [],
   "source": [
    "df1= pd.read_excel('Excel_old.xlsx')\n",
    "df2= pd.read_excel('Excel_new.xlsx')"
   ]
  },
  {
   "cell_type": "code",
   "execution_count": 31,
   "metadata": {},
   "outputs": [],
   "source": [
    "df1['id']=df1['Unique ID']+df1['Data Point']\n",
    "df2['Id']=df1['Unique ID']+df1['Data Point']"
   ]
  },
  {
   "cell_type": "code",
   "execution_count": 21,
   "metadata": {},
   "outputs": [],
   "source": [
    "dict_old_2020={}\n",
    "colid=6\n",
    "col=2\n",
    "for row in range(df1.shape[0]):\n",
    "    dict_old_2020[df1.iloc[row,colid]]=df1.iloc[row,col]"
   ]
  },
  {
   "cell_type": "code",
   "execution_count": 22,
   "metadata": {},
   "outputs": [
    {
     "data": {
      "text/plain": [
       "{'AbcVar_a': 1,\n",
       " 'AbcVar_b': 42,\n",
       " 'DefVar_a': 234,\n",
       " 'DefVar_b': 4,\n",
       " 'GhiVar_a': 43,\n",
       " 'GhiVar_b': 43,\n",
       " 'JklVar_a': 423,\n",
       " 'JlkVar_b': 54,\n",
       " 'MnoVar_a': 981,\n",
       " 'MnoVar_b': 5342}"
      ]
     },
     "execution_count": 22,
     "metadata": {},
     "output_type": "execute_result"
    }
   ],
   "source": [
    "dict_old_2020"
   ]
  },
  {
   "cell_type": "code",
   "execution_count": 23,
   "metadata": {},
   "outputs": [
    {
     "data": {
      "text/html": [
       "<div>\n",
       "<style scoped>\n",
       "    .dataframe tbody tr th:only-of-type {\n",
       "        vertical-align: middle;\n",
       "    }\n",
       "\n",
       "    .dataframe tbody tr th {\n",
       "        vertical-align: top;\n",
       "    }\n",
       "\n",
       "    .dataframe thead th {\n",
       "        text-align: right;\n",
       "    }\n",
       "</style>\n",
       "<table border=\"1\" class=\"dataframe\">\n",
       "  <thead>\n",
       "    <tr style=\"text-align: right;\">\n",
       "      <th></th>\n",
       "      <th>ID</th>\n",
       "      <th>2020</th>\n",
       "    </tr>\n",
       "  </thead>\n",
       "  <tbody>\n",
       "    <tr>\n",
       "      <td>0</td>\n",
       "      <td>AbcVar_a</td>\n",
       "      <td>1</td>\n",
       "    </tr>\n",
       "    <tr>\n",
       "      <td>1</td>\n",
       "      <td>AbcVar_b</td>\n",
       "      <td>42</td>\n",
       "    </tr>\n",
       "    <tr>\n",
       "      <td>2</td>\n",
       "      <td>DefVar_a</td>\n",
       "      <td>234</td>\n",
       "    </tr>\n",
       "    <tr>\n",
       "      <td>3</td>\n",
       "      <td>DefVar_b</td>\n",
       "      <td>4</td>\n",
       "    </tr>\n",
       "    <tr>\n",
       "      <td>4</td>\n",
       "      <td>GhiVar_a</td>\n",
       "      <td>43</td>\n",
       "    </tr>\n",
       "    <tr>\n",
       "      <td>5</td>\n",
       "      <td>GhiVar_b</td>\n",
       "      <td>43</td>\n",
       "    </tr>\n",
       "    <tr>\n",
       "      <td>6</td>\n",
       "      <td>JklVar_a</td>\n",
       "      <td>423</td>\n",
       "    </tr>\n",
       "    <tr>\n",
       "      <td>7</td>\n",
       "      <td>JlkVar_b</td>\n",
       "      <td>54</td>\n",
       "    </tr>\n",
       "    <tr>\n",
       "      <td>8</td>\n",
       "      <td>MnoVar_a</td>\n",
       "      <td>981</td>\n",
       "    </tr>\n",
       "    <tr>\n",
       "      <td>9</td>\n",
       "      <td>MnoVar_b</td>\n",
       "      <td>5342</td>\n",
       "    </tr>\n",
       "  </tbody>\n",
       "</table>\n",
       "</div>"
      ],
      "text/plain": [
       "         ID  2020\n",
       "0  AbcVar_a     1\n",
       "1  AbcVar_b    42\n",
       "2  DefVar_a   234\n",
       "3  DefVar_b     4\n",
       "4  GhiVar_a    43\n",
       "5  GhiVar_b    43\n",
       "6  JklVar_a   423\n",
       "7  JlkVar_b    54\n",
       "8  MnoVar_a   981\n",
       "9  MnoVar_b  5342"
      ]
     },
     "execution_count": 23,
     "metadata": {},
     "output_type": "execute_result"
    }
   ],
   "source": [
    "pd.DataFrame(list(dict_old_2020.items()), columns=['ID', '2020'])"
   ]
  },
  {
   "cell_type": "code",
   "execution_count": 24,
   "metadata": {},
   "outputs": [],
   "source": [
    "dict_old_2021={}\n",
    "colid=6\n",
    "col=3\n",
    "for row in range(df1.shape[0]):\n",
    "    dict_old_2021[df1.iloc[row,colid]]=df1.iloc[row,col]"
   ]
  },
  {
   "cell_type": "code",
   "execution_count": 25,
   "metadata": {},
   "outputs": [
    {
     "data": {
      "text/plain": [
       "{'AbcVar_a': 43,\n",
       " 'AbcVar_b': 7654,\n",
       " 'DefVar_a': 543,\n",
       " 'DefVar_b': 54,\n",
       " 'GhiVar_a': 342,\n",
       " 'GhiVar_b': 543,\n",
       " 'JklVar_a': 432,\n",
       " 'JlkVar_b': 2,\n",
       " 'MnoVar_a': 234,\n",
       " 'MnoVar_b': 6543}"
      ]
     },
     "execution_count": 25,
     "metadata": {},
     "output_type": "execute_result"
    }
   ],
   "source": [
    "dict_old_2021"
   ]
  },
  {
   "cell_type": "code",
   "execution_count": 26,
   "metadata": {},
   "outputs": [],
   "source": [
    "dict_old_2022={}\n",
    "colid=6\n",
    "col=4\n",
    "for row in range(df1.shape[0]):\n",
    "    dict_old_2022[df1.iloc[row,colid]]=df1.iloc[row,col]"
   ]
  },
  {
   "cell_type": "code",
   "execution_count": 27,
   "metadata": {},
   "outputs": [
    {
     "data": {
      "text/plain": [
       "{'AbcVar_a': 543,\n",
       " 'AbcVar_b': 786,\n",
       " 'DefVar_a': 654,\n",
       " 'DefVar_b': 653,\n",
       " 'GhiVar_a': 0,\n",
       " 'GhiVar_b': 65,\n",
       " 'JklVar_a': 432,\n",
       " 'JlkVar_b': 65,\n",
       " 'MnoVar_a': 32,\n",
       " 'MnoVar_b': 875}"
      ]
     },
     "execution_count": 27,
     "metadata": {},
     "output_type": "execute_result"
    }
   ],
   "source": [
    "dict_old_2022"
   ]
  },
  {
   "cell_type": "code",
   "execution_count": 28,
   "metadata": {},
   "outputs": [],
   "source": [
    "dict_old_2023={}\n",
    "colid=6\n",
    "col=5\n",
    "for row in range(df1.shape[0]):\n",
    "    dict_old_2023[df1.iloc[row,colid]]=df1.iloc[row,col]"
   ]
  },
  {
   "cell_type": "code",
   "execution_count": 29,
   "metadata": {},
   "outputs": [
    {
     "data": {
      "text/plain": [
       "{'AbcVar_a': 42,\n",
       " 'AbcVar_b': 63,\n",
       " 'DefVar_a': 432,\n",
       " 'DefVar_b': 2,\n",
       " 'GhiVar_a': 5,\n",
       " 'GhiVar_b': 123,\n",
       " 'JklVar_a': 432,\n",
       " 'JlkVar_b': 872,\n",
       " 'MnoVar_a': 98,\n",
       " 'MnoVar_b': 2456}"
      ]
     },
     "execution_count": 29,
     "metadata": {},
     "output_type": "execute_result"
    }
   ],
   "source": [
    "dict_old_2023"
   ]
  },
  {
   "cell_type": "code",
   "execution_count": 32,
   "metadata": {},
   "outputs": [],
   "source": [
    "dict_new_2020={}\n",
    "colid=6\n",
    "col=2\n",
    "for row in range(df2.shape[0]):\n",
    "    dict_new_2020[df2.iloc[row,colid]]=df2.iloc[row,col]"
   ]
  },
  {
   "cell_type": "code",
   "execution_count": 33,
   "metadata": {},
   "outputs": [],
   "source": [
    "dict_new_2021={}\n",
    "colid=6\n",
    "col=3\n",
    "for row in range(df2.shape[0]):\n",
    "    dict_new_2021[df2.iloc[row,colid]]=df2.iloc[row,col]"
   ]
  },
  {
   "cell_type": "code",
   "execution_count": 35,
   "metadata": {},
   "outputs": [],
   "source": [
    "dict_new_2022={}\n",
    "colid=6\n",
    "col=4\n",
    "for row in range(df2.shape[0]):\n",
    "    dict_new_2022[df2.iloc[row,colid]]=df2.iloc[row,col]"
   ]
  },
  {
   "cell_type": "code",
   "execution_count": 36,
   "metadata": {},
   "outputs": [],
   "source": [
    "dict_new_2023={}\n",
    "colid=6\n",
    "col=5\n",
    "for row in range(df2.shape[0]):\n",
    "    dict_new_2023[df2.iloc[row,colid]]=df2.iloc[row,col]"
   ]
  },
  {
   "cell_type": "code",
   "execution_count": 37,
   "metadata": {},
   "outputs": [
    {
     "data": {
      "text/plain": [
       "{'AbcVar_a': 43,\n",
       " 'AbcVar_b': 7654,\n",
       " 'DefVar_a': 543,\n",
       " 'DefVar_b': 54,\n",
       " 'GhiVar_a': 342,\n",
       " 'GhiVar_b': 543,\n",
       " 'JklVar_a': 5432,\n",
       " 'JlkVar_b': 2,\n",
       " 'MnoVar_a': 234,\n",
       " 'MnoVar_b': 6543}"
      ]
     },
     "execution_count": 37,
     "metadata": {},
     "output_type": "execute_result"
    }
   ],
   "source": [
    "dict_new_2021"
   ]
  },
  {
   "cell_type": "code",
   "execution_count": 39,
   "metadata": {},
   "outputs": [],
   "source": [
    "dict_dif_2020={}\n",
    "\n",
    "for key in dict_new_2020.keys():\n",
    "    if key not in dict_old_2020.keys():\n",
    "        dict_dif_2020[key]=dict_new_2020[key]\n",
    "    else:\n",
    "        dict_dif_2020[key]=dict_old_2020[key]-dict_new_2020[key]\n",
    "        "
   ]
  },
  {
   "cell_type": "code",
   "execution_count": 46,
   "metadata": {},
   "outputs": [
    {
     "data": {
      "text/plain": [
       "{'AbcVar_a': 0,\n",
       " 'AbcVar_b': 0,\n",
       " 'DefVar_a': 0,\n",
       " 'DefVar_b': 0,\n",
       " 'GhiVar_a': 8,\n",
       " 'GhiVar_b': 0,\n",
       " 'JklVar_a': 0,\n",
       " 'JlkVar_b': 0,\n",
       " 'MnoVar_a': 0,\n",
       " 'MnoVar_b': 0}"
      ]
     },
     "execution_count": 46,
     "metadata": {},
     "output_type": "execute_result"
    }
   ],
   "source": [
    "dict_dif_2020"
   ]
  },
  {
   "cell_type": "code",
   "execution_count": 49,
   "metadata": {},
   "outputs": [
    {
     "data": {
      "text/plain": [
       "{'AbcVar_a': 0,\n",
       " 'AbcVar_b': 0,\n",
       " 'DefVar_a': 0,\n",
       " 'DefVar_b': 0,\n",
       " 'GhiVar_a': 0,\n",
       " 'GhiVar_b': 0,\n",
       " 'JklVar_a': -5000,\n",
       " 'JlkVar_b': 0,\n",
       " 'MnoVar_a': 0,\n",
       " 'MnoVar_b': 0}"
      ]
     },
     "execution_count": 49,
     "metadata": {},
     "output_type": "execute_result"
    }
   ],
   "source": [
    "dict_dif_2021={}\n",
    "\n",
    "for key in dict_new_2021.keys():\n",
    "    if key not in dict_old_2021.keys():\n",
    "        dict_dif_2021[key]=dict_new_2021[key]\n",
    "    else:\n",
    "        dict_dif_2021[key]=dict_old_2021[key]-dict_new_2021[key]\n",
    "        \n",
    "\n",
    "dict_dif_2021"
   ]
  },
  {
   "cell_type": "code",
   "execution_count": 86,
   "metadata": {},
   "outputs": [
    {
     "data": {
      "text/plain": [
       "{'AbcVar_a': 0,\n",
       " 'AbcVar_b': 352,\n",
       " 'DefVar_a': 0,\n",
       " 'DefVar_b': 0,\n",
       " 'GhiVar_a': -423,\n",
       " 'GhiVar_b': 0,\n",
       " 'JklVar_a': 0,\n",
       " 'JlkVar_b': 0,\n",
       " 'MnoVar_a': 0,\n",
       " 'MnoVar_b': 0}"
      ]
     },
     "execution_count": 86,
     "metadata": {},
     "output_type": "execute_result"
    }
   ],
   "source": [
    "dict_dif_2022={}\n",
    "\n",
    "for key in dict_new_2022.keys():\n",
    "    if key not in dict_old_2022.keys():\n",
    "        dict_dif_2022[key]=dict_new_2022[key]\n",
    "    else:\n",
    "        dict_dif_2022[key]=dict_old_2022[key]-dict_new_2022[key]\n",
    "        \n",
    "\n",
    "dict_dif_2022"
   ]
  },
  {
   "cell_type": "code",
   "execution_count": 87,
   "metadata": {},
   "outputs": [
    {
     "data": {
      "text/plain": [
       "{'AbcVar_a': 0,\n",
       " 'AbcVar_b': 0,\n",
       " 'DefVar_a': 389,\n",
       " 'DefVar_b': 0,\n",
       " 'GhiVar_a': 0,\n",
       " 'GhiVar_b': 0,\n",
       " 'JklVar_a': 0,\n",
       " 'JlkVar_b': 0,\n",
       " 'MnoVar_a': 55,\n",
       " 'MnoVar_b': 0}"
      ]
     },
     "execution_count": 87,
     "metadata": {},
     "output_type": "execute_result"
    }
   ],
   "source": [
    "dict_dif_2023={}\n",
    "\n",
    "for key in dict_new_2023.keys():\n",
    "    if key not in dict_old_2023.keys():\n",
    "        dict_dif_2023[key]=dict_new_2023[key]\n",
    "    else:\n",
    "        dict_dif_2023[key]=dict_old_2023[key]-dict_new_2023[key]\n",
    "        \n",
    "\n",
    "dict_dif_2023"
   ]
  },
  {
   "cell_type": "code",
   "execution_count": 95,
   "metadata": {},
   "outputs": [],
   "source": [
    "df_add_2020=pd.DataFrame(list(dict_dif_2020.items()), columns=['ID','2020'])"
   ]
  },
  {
   "cell_type": "code",
   "execution_count": 96,
   "metadata": {},
   "outputs": [
    {
     "data": {
      "text/html": [
       "<div>\n",
       "<style scoped>\n",
       "    .dataframe tbody tr th:only-of-type {\n",
       "        vertical-align: middle;\n",
       "    }\n",
       "\n",
       "    .dataframe tbody tr th {\n",
       "        vertical-align: top;\n",
       "    }\n",
       "\n",
       "    .dataframe thead th {\n",
       "        text-align: right;\n",
       "    }\n",
       "</style>\n",
       "<table border=\"1\" class=\"dataframe\">\n",
       "  <thead>\n",
       "    <tr style=\"text-align: right;\">\n",
       "      <th></th>\n",
       "      <th>ID</th>\n",
       "      <th>2020</th>\n",
       "    </tr>\n",
       "  </thead>\n",
       "  <tbody>\n",
       "    <tr>\n",
       "      <td>0</td>\n",
       "      <td>AbcVar_a</td>\n",
       "      <td>0</td>\n",
       "    </tr>\n",
       "    <tr>\n",
       "      <td>1</td>\n",
       "      <td>AbcVar_b</td>\n",
       "      <td>0</td>\n",
       "    </tr>\n",
       "    <tr>\n",
       "      <td>2</td>\n",
       "      <td>DefVar_a</td>\n",
       "      <td>0</td>\n",
       "    </tr>\n",
       "    <tr>\n",
       "      <td>3</td>\n",
       "      <td>DefVar_b</td>\n",
       "      <td>0</td>\n",
       "    </tr>\n",
       "    <tr>\n",
       "      <td>4</td>\n",
       "      <td>GhiVar_a</td>\n",
       "      <td>8</td>\n",
       "    </tr>\n",
       "    <tr>\n",
       "      <td>5</td>\n",
       "      <td>GhiVar_b</td>\n",
       "      <td>0</td>\n",
       "    </tr>\n",
       "    <tr>\n",
       "      <td>6</td>\n",
       "      <td>JklVar_a</td>\n",
       "      <td>0</td>\n",
       "    </tr>\n",
       "    <tr>\n",
       "      <td>7</td>\n",
       "      <td>JlkVar_b</td>\n",
       "      <td>0</td>\n",
       "    </tr>\n",
       "    <tr>\n",
       "      <td>8</td>\n",
       "      <td>MnoVar_a</td>\n",
       "      <td>0</td>\n",
       "    </tr>\n",
       "    <tr>\n",
       "      <td>9</td>\n",
       "      <td>MnoVar_b</td>\n",
       "      <td>0</td>\n",
       "    </tr>\n",
       "  </tbody>\n",
       "</table>\n",
       "</div>"
      ],
      "text/plain": [
       "         ID  2020\n",
       "0  AbcVar_a     0\n",
       "1  AbcVar_b     0\n",
       "2  DefVar_a     0\n",
       "3  DefVar_b     0\n",
       "4  GhiVar_a     8\n",
       "5  GhiVar_b     0\n",
       "6  JklVar_a     0\n",
       "7  JlkVar_b     0\n",
       "8  MnoVar_a     0\n",
       "9  MnoVar_b     0"
      ]
     },
     "execution_count": 96,
     "metadata": {},
     "output_type": "execute_result"
    }
   ],
   "source": [
    "df_add_2020"
   ]
  },
  {
   "cell_type": "code",
   "execution_count": 97,
   "metadata": {},
   "outputs": [],
   "source": [
    "df_add_2021=pd.DataFrame(list(dict_dif_2021.values()), columns=['2021'])"
   ]
  },
  {
   "cell_type": "code",
   "execution_count": 98,
   "metadata": {},
   "outputs": [],
   "source": [
    "df_add_2022=pd.DataFrame(list(dict_dif_2022.values()), columns=['2022'])"
   ]
  },
  {
   "cell_type": "code",
   "execution_count": 99,
   "metadata": {},
   "outputs": [],
   "source": [
    "df_add_2023=pd.DataFrame(list(dict_dif_2023.values()), columns=['2023'])"
   ]
  },
  {
   "cell_type": "code",
   "execution_count": 100,
   "metadata": {},
   "outputs": [],
   "source": [
    "df_add=pd.concat([df_add_2020,df_add_2021,df_add_2022,df_add_2023],axis=1,sort=False)"
   ]
  },
  {
   "cell_type": "code",
   "execution_count": 101,
   "metadata": {},
   "outputs": [
    {
     "data": {
      "text/html": [
       "<div>\n",
       "<style scoped>\n",
       "    .dataframe tbody tr th:only-of-type {\n",
       "        vertical-align: middle;\n",
       "    }\n",
       "\n",
       "    .dataframe tbody tr th {\n",
       "        vertical-align: top;\n",
       "    }\n",
       "\n",
       "    .dataframe thead th {\n",
       "        text-align: right;\n",
       "    }\n",
       "</style>\n",
       "<table border=\"1\" class=\"dataframe\">\n",
       "  <thead>\n",
       "    <tr style=\"text-align: right;\">\n",
       "      <th></th>\n",
       "      <th>ID</th>\n",
       "      <th>2020</th>\n",
       "      <th>2021</th>\n",
       "      <th>2022</th>\n",
       "      <th>2023</th>\n",
       "    </tr>\n",
       "  </thead>\n",
       "  <tbody>\n",
       "    <tr>\n",
       "      <td>0</td>\n",
       "      <td>AbcVar_a</td>\n",
       "      <td>0</td>\n",
       "      <td>0</td>\n",
       "      <td>0</td>\n",
       "      <td>0</td>\n",
       "    </tr>\n",
       "    <tr>\n",
       "      <td>1</td>\n",
       "      <td>AbcVar_b</td>\n",
       "      <td>0</td>\n",
       "      <td>0</td>\n",
       "      <td>352</td>\n",
       "      <td>0</td>\n",
       "    </tr>\n",
       "    <tr>\n",
       "      <td>2</td>\n",
       "      <td>DefVar_a</td>\n",
       "      <td>0</td>\n",
       "      <td>0</td>\n",
       "      <td>0</td>\n",
       "      <td>389</td>\n",
       "    </tr>\n",
       "    <tr>\n",
       "      <td>3</td>\n",
       "      <td>DefVar_b</td>\n",
       "      <td>0</td>\n",
       "      <td>0</td>\n",
       "      <td>0</td>\n",
       "      <td>0</td>\n",
       "    </tr>\n",
       "    <tr>\n",
       "      <td>4</td>\n",
       "      <td>GhiVar_a</td>\n",
       "      <td>8</td>\n",
       "      <td>0</td>\n",
       "      <td>-423</td>\n",
       "      <td>0</td>\n",
       "    </tr>\n",
       "    <tr>\n",
       "      <td>5</td>\n",
       "      <td>GhiVar_b</td>\n",
       "      <td>0</td>\n",
       "      <td>0</td>\n",
       "      <td>0</td>\n",
       "      <td>0</td>\n",
       "    </tr>\n",
       "    <tr>\n",
       "      <td>6</td>\n",
       "      <td>JklVar_a</td>\n",
       "      <td>0</td>\n",
       "      <td>-5000</td>\n",
       "      <td>0</td>\n",
       "      <td>0</td>\n",
       "    </tr>\n",
       "    <tr>\n",
       "      <td>7</td>\n",
       "      <td>JlkVar_b</td>\n",
       "      <td>0</td>\n",
       "      <td>0</td>\n",
       "      <td>0</td>\n",
       "      <td>0</td>\n",
       "    </tr>\n",
       "    <tr>\n",
       "      <td>8</td>\n",
       "      <td>MnoVar_a</td>\n",
       "      <td>0</td>\n",
       "      <td>0</td>\n",
       "      <td>0</td>\n",
       "      <td>55</td>\n",
       "    </tr>\n",
       "    <tr>\n",
       "      <td>9</td>\n",
       "      <td>MnoVar_b</td>\n",
       "      <td>0</td>\n",
       "      <td>0</td>\n",
       "      <td>0</td>\n",
       "      <td>0</td>\n",
       "    </tr>\n",
       "  </tbody>\n",
       "</table>\n",
       "</div>"
      ],
      "text/plain": [
       "         ID  2020  2021  2022  2023\n",
       "0  AbcVar_a     0     0     0     0\n",
       "1  AbcVar_b     0     0   352     0\n",
       "2  DefVar_a     0     0     0   389\n",
       "3  DefVar_b     0     0     0     0\n",
       "4  GhiVar_a     8     0  -423     0\n",
       "5  GhiVar_b     0     0     0     0\n",
       "6  JklVar_a     0 -5000     0     0\n",
       "7  JlkVar_b     0     0     0     0\n",
       "8  MnoVar_a     0     0     0    55\n",
       "9  MnoVar_b     0     0     0     0"
      ]
     },
     "execution_count": 101,
     "metadata": {},
     "output_type": "execute_result"
    }
   ],
   "source": [
    "df_add"
   ]
  },
  {
   "cell_type": "code",
   "execution_count": 108,
   "metadata": {},
   "outputs": [],
   "source": [
    "df_name=pd.DataFrame({'Unique ID':df2['Unique ID'],'Data Point':df2['Data Point'],'2020':df_add_2020['2020'],'2021':df_add_2021['2021'],'2022':df_add_2022['2022'],'2023':df_add_2023['2023']})"
   ]
  },
  {
   "cell_type": "code",
   "execution_count": 109,
   "metadata": {},
   "outputs": [
    {
     "data": {
      "text/html": [
       "<div>\n",
       "<style scoped>\n",
       "    .dataframe tbody tr th:only-of-type {\n",
       "        vertical-align: middle;\n",
       "    }\n",
       "\n",
       "    .dataframe tbody tr th {\n",
       "        vertical-align: top;\n",
       "    }\n",
       "\n",
       "    .dataframe thead th {\n",
       "        text-align: right;\n",
       "    }\n",
       "</style>\n",
       "<table border=\"1\" class=\"dataframe\">\n",
       "  <thead>\n",
       "    <tr style=\"text-align: right;\">\n",
       "      <th></th>\n",
       "      <th>Unique ID</th>\n",
       "      <th>Data Point</th>\n",
       "      <th>2020</th>\n",
       "      <th>2021</th>\n",
       "      <th>2022</th>\n",
       "      <th>2023</th>\n",
       "    </tr>\n",
       "  </thead>\n",
       "  <tbody>\n",
       "    <tr>\n",
       "      <td>0</td>\n",
       "      <td>Abc</td>\n",
       "      <td>Var_a</td>\n",
       "      <td>0</td>\n",
       "      <td>0</td>\n",
       "      <td>0</td>\n",
       "      <td>0</td>\n",
       "    </tr>\n",
       "    <tr>\n",
       "      <td>1</td>\n",
       "      <td>Abc</td>\n",
       "      <td>Var_b</td>\n",
       "      <td>0</td>\n",
       "      <td>0</td>\n",
       "      <td>352</td>\n",
       "      <td>0</td>\n",
       "    </tr>\n",
       "    <tr>\n",
       "      <td>2</td>\n",
       "      <td>Def</td>\n",
       "      <td>Var_a</td>\n",
       "      <td>0</td>\n",
       "      <td>0</td>\n",
       "      <td>0</td>\n",
       "      <td>389</td>\n",
       "    </tr>\n",
       "    <tr>\n",
       "      <td>3</td>\n",
       "      <td>Def</td>\n",
       "      <td>Var_b</td>\n",
       "      <td>0</td>\n",
       "      <td>0</td>\n",
       "      <td>0</td>\n",
       "      <td>0</td>\n",
       "    </tr>\n",
       "    <tr>\n",
       "      <td>4</td>\n",
       "      <td>Ghi</td>\n",
       "      <td>Var_a</td>\n",
       "      <td>8</td>\n",
       "      <td>0</td>\n",
       "      <td>-423</td>\n",
       "      <td>0</td>\n",
       "    </tr>\n",
       "    <tr>\n",
       "      <td>5</td>\n",
       "      <td>Ghi</td>\n",
       "      <td>Var_b</td>\n",
       "      <td>0</td>\n",
       "      <td>0</td>\n",
       "      <td>0</td>\n",
       "      <td>0</td>\n",
       "    </tr>\n",
       "    <tr>\n",
       "      <td>6</td>\n",
       "      <td>Jkl</td>\n",
       "      <td>Var_a</td>\n",
       "      <td>0</td>\n",
       "      <td>-5000</td>\n",
       "      <td>0</td>\n",
       "      <td>0</td>\n",
       "    </tr>\n",
       "    <tr>\n",
       "      <td>7</td>\n",
       "      <td>Jlk</td>\n",
       "      <td>Var_b</td>\n",
       "      <td>0</td>\n",
       "      <td>0</td>\n",
       "      <td>0</td>\n",
       "      <td>0</td>\n",
       "    </tr>\n",
       "    <tr>\n",
       "      <td>8</td>\n",
       "      <td>Mno</td>\n",
       "      <td>Var_a</td>\n",
       "      <td>0</td>\n",
       "      <td>0</td>\n",
       "      <td>0</td>\n",
       "      <td>55</td>\n",
       "    </tr>\n",
       "    <tr>\n",
       "      <td>9</td>\n",
       "      <td>Mno</td>\n",
       "      <td>Var_b</td>\n",
       "      <td>0</td>\n",
       "      <td>0</td>\n",
       "      <td>0</td>\n",
       "      <td>0</td>\n",
       "    </tr>\n",
       "  </tbody>\n",
       "</table>\n",
       "</div>"
      ],
      "text/plain": [
       "  Unique ID Data Point  2020  2021  2022  2023\n",
       "0       Abc      Var_a     0     0     0     0\n",
       "1       Abc      Var_b     0     0   352     0\n",
       "2       Def      Var_a     0     0     0   389\n",
       "3       Def      Var_b     0     0     0     0\n",
       "4       Ghi      Var_a     8     0  -423     0\n",
       "5       Ghi      Var_b     0     0     0     0\n",
       "6       Jkl      Var_a     0 -5000     0     0\n",
       "7       Jlk      Var_b     0     0     0     0\n",
       "8       Mno      Var_a     0     0     0    55\n",
       "9       Mno      Var_b     0     0     0     0"
      ]
     },
     "execution_count": 109,
     "metadata": {},
     "output_type": "execute_result"
    }
   ],
   "source": [
    "df_name"
   ]
  },
  {
   "cell_type": "code",
   "execution_count": 138,
   "metadata": {},
   "outputs": [],
   "source": [
    "def color_red(value):\n",
    "    color = 'red' if (value!=0 and type(value)!=str) else 'black'\n",
    "    return 'color: %s' %color"
   ]
  },
  {
   "cell_type": "code",
   "execution_count": 139,
   "metadata": {},
   "outputs": [],
   "source": [
    "df=df_name.style.applymap(color_red)"
   ]
  },
  {
   "cell_type": "code",
   "execution_count": 143,
   "metadata": {},
   "outputs": [],
   "source": [
    "df.to_excel(\"Final.xlsx\",index =False)"
   ]
  },
  {
   "cell_type": "code",
   "execution_count": null,
   "metadata": {},
   "outputs": [],
   "source": []
  }
 ],
 "metadata": {
  "kernelspec": {
   "display_name": "Python 3",
   "language": "python",
   "name": "python3"
  },
  "language_info": {
   "codemirror_mode": {
    "name": "ipython",
    "version": 3
   },
   "file_extension": ".py",
   "mimetype": "text/x-python",
   "name": "python",
   "nbconvert_exporter": "python",
   "pygments_lexer": "ipython3",
   "version": "3.7.4"
  }
 },
 "nbformat": 4,
 "nbformat_minor": 2
}
